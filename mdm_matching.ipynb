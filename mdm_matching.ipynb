{
 "cells": [
  {
   "cell_type": "code",
   "execution_count": null,
   "metadata": {},
   "outputs": [],
   "source": [
    "from src.mdm import deterministic_match, apply_survivorship\n",
    "from pyspark.sql import SparkSession\n",
    "\n",
    "spark = SparkSession.builder.appName('MDMMatching').getOrCreate()\n",
    "\n",
    "# Load sample datasets\n",
    "ehr_df = spark.read.parquet('../data/processed/ehr_clean.parquet')\n",
    "billing_df = spark.read.parquet('../data/processed/billing_clean.parquet')\n",
    "\n",
    "matched_df = deterministic_match(ehr_df, billing_df, ['patient_id', 'date_of_birth'])\n",
    "priorities = {'phone': ['ehr', 'billing'], 'address': ['ehr', 'billing']}\n",
    "golden_df = apply_survivorship(matched_df, priorities)\n",
    "golden_df.show(5)"
   ]
  }
 ],
 "metadata": {
  "kernelspec": {
   "display_name": "Python 3",
   "language": "python",
   "name": "python3"
  }
 },
 "nbformat": 4,
 "nbformat_minor": 5
}