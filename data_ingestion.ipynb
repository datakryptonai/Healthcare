{
 "cells": [
  {
   "cell_type": "code",
   "execution_count": null,
   "metadata": {},
   "outputs": [],
   "source": [
    "import pyspark.sql.functions as F\n",
    "from pyspark.sql import SparkSession\n",
    "\n",
    "spark = SparkSession.builder.appName('DataIngestion').getOrCreate()\n",
    "\n",
    "sensor_df = spark.read.csv('../data/raw/ehr_data.csv', header=True, inferSchema=True)\n",
    "sensor_df = sensor_df.dropDuplicates().filter(F.col('patient_id').isNotNull())\n",
    "sensor_df.show(5)"
   ]
  }
 ],
 "metadata": {
  "kernelspec": {
   "display_name": "Python 3",
   "language": "python",
   "name": "python3"
  }
 },
 "nbformat": 4,
 "nbformat_minor": 5
}