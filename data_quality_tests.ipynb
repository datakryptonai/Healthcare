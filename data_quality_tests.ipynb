{
 "cells": [
  {
   "cell_type": "code",
   "execution_count": null,
   "metadata": {},
   "outputs": [],
   "source": [
    "import pandas as pd\n",
    "from src.quality import validate_patient_ids, validate_icd10_codes\n",
    "\n",
    "# Load sample data as Pandas DataFrame\n",
    "df = pd.read_csv('../data/processed/golden_patients.csv')\n",
    "\n",
    "# Run data quality validations\n",
    "validate_patient_ids(df)\n",
    "validate_icd10_codes(df)"
   ]
  }
 ],
 "metadata": {
  "kernelspec": {
   "display_name": "Python 3",
   "language": "python",
   "name": "python3"
  }
 },
 "nbformat": 4,
 "nbformat_minor": 5
}